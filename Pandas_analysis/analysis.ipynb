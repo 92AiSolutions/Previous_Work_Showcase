{
 "cells": [
  {
   "cell_type": "code",
   "execution_count": null,
   "id": "90a7cbe1",
   "metadata": {
    "vscode": {
     "languageId": "plaintext"
    }
   },
   "outputs": [],
   "source": [
    "import pandas as pd\n",
    "import matplotlib.pyplot as plt\n",
    "\n",
    "df = pd.read_csv(\"data.csv\")\n",
    "df.groupby(\"Category\")[\"Sales\"].sum().plot(kind=\"bar\")\n",
    "plt.show()\n"
   ]
  }
 ],
 "metadata": {
  "language_info": {
   "name": "python"
  }
 },
 "nbformat": 4,
 "nbformat_minor": 5
}
